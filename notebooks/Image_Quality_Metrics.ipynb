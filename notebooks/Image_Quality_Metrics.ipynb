{
 "cells": [
  {
   "cell_type": "markdown",
   "metadata": {},
   "source": [
    "# Image Quality Metrics for Synthetic HX4-PET Evaulation\n",
    "\n",
    "Two broad types of metrics:\n",
    "1. Voxel-wise differences: MSE, MAE, PSNR\n",
    "2. Statistical measures: SSIM, Mutual Information, Histogram chi-square distance"
   ]
  },
  {
   "cell_type": "code",
   "execution_count": 67,
   "metadata": {},
   "outputs": [],
   "source": [
    "import time\n",
    "\n",
    "import numpy as np\n",
    "import pandas as pd\n",
    "from scipy.stats import entropy\n",
    "from skimage.metrics import (mean_squared_error,\n",
    "                             peak_signal_noise_ratio,\n",
    "                             structural_similarity)\n",
    "\n",
    "import SimpleITK as sitk"
   ]
  },
  {
   "cell_type": "markdown",
   "metadata": {},
   "source": [
    "## Metric functions and utils"
   ]
  },
  {
   "cell_type": "code",
   "execution_count": 68,
   "metadata": {},
   "outputs": [],
   "source": [
    "def mse(predicted, ground_truth):\n",
    "    mse_value = mean_squared_error(predicted, ground_truth)\n",
    "    return float(mse_value)\n",
    "\n",
    "def mae(predicted, ground_truth):\n",
    "    mae_value = np.absolute(predicted - ground_truth).mean()\n",
    "    return float(mae_value)\n",
    "\n",
    "\n",
    "def psnr(predicted, ground_truth, data_range):\n",
    "    psnr_value = peak_signal_noise_ratio(predicted, \n",
    "                                         ground_truth, \n",
    "                                         data_range=data_range)\n",
    "    return float(psnr_value)\n",
    "\n",
    "def ssim(predicted, ground_truth, data_range):\n",
    "    ssim_value = structural_similarity(predicted, \n",
    "                                       ground_truth, \n",
    "                                       data_range=data_range)\n",
    "    return float(ssim_value)\n",
    "\n",
    "def nmi(predicted, ground_truth, bins=100):\n",
    "    \"\"\"Normalized Mutual Information.\n",
    "    Implementation taken from scikit-image 0.19.0.dev0 source.\n",
    "    \"\"\"\n",
    "    hist, bin_edges = np.histogramdd(\n",
    "            [np.reshape(predicted, -1), np.reshape(ground_truth, -1)],\n",
    "            bins=bins,\n",
    "            density=True,\n",
    "            )\n",
    "    H0 = entropy(np.sum(hist, axis=0))\n",
    "    H1 = entropy(np.sum(hist, axis=1))\n",
    "    H01 = entropy(np.reshape(hist, -1))\n",
    "    nmi_value = (H0 + H1) / H01\n",
    "    return float(nmi_value)\n",
    "\n",
    "\n",
    "def chi_squared_histogram_distance(predicted, ground_truth, bins=100):\n",
    "    pred_histogram, pred_bin_edges = np.histogram(predicted, bins=bins)\n",
    "    gt_histogram, gt_bin_edges = np.histogram(ground_truth, bins=bins)\n",
    "    \n",
    "    # Normalize the histograms to make them discrete distributions\n",
    "    pred_histogram = pred_histogram / pred_histogram.sum()\n",
    "    gt_histogram = gt_histogram / gt_histogram.sum()\n",
    "    \n",
    "    # Compute chi-squared distance\n",
    "    chi_sq_dist_value = np.sum((pred_histogram - gt_histogram)**2 / (pred_histogram + gt_histogram))\n",
    "    return float(chi_sq_dist_value)"
   ]
  },
  {
   "cell_type": "markdown",
   "metadata": {},
   "source": [
    "## Run"
   ]
  },
  {
   "cell_type": "code",
   "execution_count": 69,
   "metadata": {},
   "outputs": [],
   "source": [
    "SAMPLE_PATIENT = \"N010\"\n",
    "\n",
    "PREDICTED_IMAGE_PATH = \"../sample_nrrds/pix2pix_pred-N010.nrrd\"\n",
    "GROUND_TRUTH_IMAGE_PATH = \"../sample_nrrds/hx4_pet_reg-N010.nrrd\"\n",
    "\n",
    "SUV_MEAN_AORTA_FILE = \"/home/chinmay/Datasets/HX4-PET-Translation/SUVmean_aorta_HX4.csv\"\n",
    "HX4_TBR_MIN, HX4_TBR_MAX = 0.0, 3.0"
   ]
  },
  {
   "cell_type": "markdown",
   "metadata": {},
   "source": [
    "### Read images and preprocess"
   ]
  },
  {
   "cell_type": "code",
   "execution_count": 70,
   "metadata": {},
   "outputs": [
    {
     "name": "stdout",
     "output_type": "stream",
     "text": [
      "(40, 500, 500)\n",
      "(40, 500, 500)\n",
      "0.6976219351999999\n"
     ]
    }
   ],
   "source": [
    "# Read images \n",
    "\n",
    "predicted = sitk.ReadImage(PREDICTED_IMAGE_PATH)\n",
    "ground_truth = sitk.ReadImage(GROUND_TRUTH_IMAGE_PATH)\n",
    "\n",
    "predicted = sitk.GetArrayFromImage(predicted)\n",
    "ground_truth = sitk.GetArrayFromImage(ground_truth)\n",
    "\n",
    "suv_aorta_mean_values = pd.read_csv(SUV_MEAN_AORTA_FILE, index_col=0)\n",
    "suv_aorta_mean_values = suv_aorta_mean_values.to_dict()['HX4 aorta SUVmean baseline']\n",
    "suv_aorta_mean = suv_aorta_mean_values[SAMPLE_PATIENT]\n",
    "\n",
    "print(predicted.shape)\n",
    "print(ground_truth.shape)\n",
    "print(suv_aorta_mean)"
   ]
  },
  {
   "cell_type": "code",
   "execution_count": 71,
   "metadata": {},
   "outputs": [],
   "source": [
    "# Normalize with SUVmean_aorta\n",
    "predicted = predicted / suv_aorta_mean\n",
    "ground_truth = ground_truth / suv_aorta_mean\n",
    "\n",
    "# Cap the range\n",
    "predicted = np.clip(predicted, HX4_TBR_MIN, HX4_TBR_MAX)\n",
    "ground_truth = np.clip(ground_truth, HX4_TBR_MIN, HX4_TBR_MAX)"
   ]
  },
  {
   "cell_type": "markdown",
   "metadata": {},
   "source": [
    "### Compute metrics and measure runtime"
   ]
  },
  {
   "cell_type": "code",
   "execution_count": 72,
   "metadata": {},
   "outputs": [
    {
     "name": "stdout",
     "output_type": "stream",
     "text": [
      "MSE: 0.006613276351601681\n",
      "Run time (sec): 0.0667\n"
     ]
    }
   ],
   "source": [
    "# MSE\n",
    "\n",
    "t1 = time.perf_counter()\n",
    "mse_value = mse(predicted, ground_truth)\n",
    "t2 = time.perf_counter()\n",
    "\n",
    "print(\"MSE:\", mse_value)\n",
    "print(f\"Run time (sec): {t2-t1:0.4f}\")"
   ]
  },
  {
   "cell_type": "code",
   "execution_count": 73,
   "metadata": {},
   "outputs": [
    {
     "name": "stdout",
     "output_type": "stream",
     "text": [
      "MAE: 0.006613276351601681\n",
      "Run time (sec): 0.0772\n"
     ]
    }
   ],
   "source": [
    "# MAE\n",
    "\n",
    "t1 = time.perf_counter()\n",
    "mae_value = mse(predicted, ground_truth)\n",
    "t2 = time.perf_counter()\n",
    "\n",
    "print(\"MAE:\", mae_value)\n",
    "print(f\"Run time (sec): {t2-t1:0.4f}\")"
   ]
  },
  {
   "cell_type": "code",
   "execution_count": 74,
   "metadata": {},
   "outputs": [
    {
     "name": "stdout",
     "output_type": "stream",
     "text": [
      "PSNR: 31.338258383203996\n",
      "Run time (sec): 0.0751\n"
     ]
    }
   ],
   "source": [
    "# PSNR\n",
    "\n",
    "t1 = time.perf_counter()\n",
    "psnr_value = psnr(predicted, ground_truth, data_range=HX4_TBR_MAX - HX4_TBR_MIN)\n",
    "t2 = time.perf_counter()\n",
    "\n",
    "print(\"PSNR:\", psnr_value)\n",
    "print(f\"Run time (sec): {t2-t1:0.4f}\")"
   ]
  },
  {
   "cell_type": "code",
   "execution_count": 75,
   "metadata": {},
   "outputs": [
    {
     "name": "stdout",
     "output_type": "stream",
     "text": [
      "SSIM: 0.5979957576998051\n",
      "Run time (sec): 8.5806\n"
     ]
    }
   ],
   "source": [
    "# SSIM\n",
    "\n",
    "t1 = time.perf_counter()\n",
    "ssim_value = ssim(predicted, ground_truth, data_range=HX4_TBR_MAX - HX4_TBR_MIN)\n",
    "t2 = time.perf_counter()\n",
    "\n",
    "print(\"SSIM:\", ssim_value)\n",
    "print(f\"Run time (sec): {t2-t1:0.4f}\")"
   ]
  },
  {
   "cell_type": "code",
   "execution_count": 76,
   "metadata": {},
   "outputs": [
    {
     "name": "stdout",
     "output_type": "stream",
     "text": [
      "NMI: 1.201640645681537\n",
      "Run time (sec): 2.4528\n"
     ]
    }
   ],
   "source": [
    "# Normalized Mutual Information\n",
    "\n",
    "t1 = time.perf_counter()\n",
    "nmi_value = nmi(predicted, ground_truth)\n",
    "t2 = time.perf_counter()\n",
    "\n",
    "print(\"NMI:\", nmi_value)\n",
    "print(f\"Run time (sec): {t2-t1:0.4f}\")"
   ]
  },
  {
   "cell_type": "code",
   "execution_count": 77,
   "metadata": {},
   "outputs": [
    {
     "name": "stdout",
     "output_type": "stream",
     "text": [
      "Chi-squared distance: 0.5218886594237994\n",
      "Run time (sec): 0.6806\n"
     ]
    }
   ],
   "source": [
    "# Chi-squared Histogram Distance\n",
    "\n",
    "t1 = time.perf_counter()\n",
    "chi_sq_dist_value = chi_squared_histogram_distance(predicted, ground_truth)\n",
    "t2 = time.perf_counter()\n",
    "\n",
    "print(\"Chi-squared distance:\", chi_sq_dist_value)\n",
    "print(f\"Run time (sec): {t2-t1:0.4f}\")"
   ]
  },
  {
   "cell_type": "code",
   "execution_count": 95,
   "metadata": {},
   "outputs": [
    {
     "name": "stdout",
     "output_type": "stream",
     "text": [
      "1.8830956950822086\n"
     ]
    }
   ],
   "source": [
    "import matplotlib.pyplot as plt\n",
    "\n",
    "img_1 = ground_truth\n",
    "img_2 = HX4_TBR_MAX - ground_truth\n",
    "\n",
    "hist_1, _ = np.histogram(img_1, bins=100)\n",
    "hist_2, _ = np.histogram(img_2, bins=100) \n",
    "\n",
    "chi_sq_value = chi_squared_histogram_distance(img_1, img_2)\n",
    "print(chi_sq_value)"
   ]
  },
  {
   "cell_type": "code",
   "execution_count": 89,
   "metadata": {},
   "outputs": [
    {
     "data": {
      "image/png": "[encoded data removed]",
      "text/plain": [
       "<Figure size 432x288 with 1 Axes>"
      ]
     },
     "metadata": {
      "needs_background": "light"
     },
     "output_type": "display_data"
    }
   ],
   "source": [
    "plt.plot(hist_1, 'r', label='img1 hist')\n",
    "plt.plot(hist_2, 'b', label='img2 hist')\n",
    "plt.show()"
   ]
  },
  {
   "cell_type": "code",
   "execution_count": null,
   "metadata": {},
   "outputs": [],
   "source": []
  }
 ],
 "metadata": {
  "kernelspec": {
   "display_name": "Python 3.6.11 64-bit ('maastro_env': conda)",
   "language": "python",
   "name": "python361164bitmaastroenvcondaa9dd80bf80c04a72bb1b34155d3546fd"
  },
  "language_info": {
   "codemirror_mode": {
    "name": "ipython",
    "version": 3
   },
   "file_extension": ".py",
   "mimetype": "text/x-python",
   "name": "python",
   "nbconvert_exporter": "python",
   "pygments_lexer": "ipython3",
   "version": "3.6.11"
  }
 },
 "nbformat": 4,
 "nbformat_minor": 4
}
